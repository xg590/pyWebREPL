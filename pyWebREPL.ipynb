{
 "cells": [
  {
   "cell_type": "markdown",
   "metadata": {
    "ExecuteTime": {
     "end_time": "2021-10-30T09:10:15.369203Z",
     "start_time": "2021-10-30T09:10:15.346786Z"
    }
   },
   "source": [
    "### This is a Python client to ESP8266 WebREPL \n",
    "* Python Ver : 3.7\n",
    "* ESP8266 Firmware: esp8266-20210902-v1.17.bin\n",
    "* Websocket Frame: https://www.rfc-editor.org/rfc/rfc6455.html#section-5.2\n",
    "* Masking Algorithm: https://datatracker.ietf.org/doc/html/rfc6455#section-5.3"
   ]
  },
  {
   "cell_type": "code",
   "execution_count": 1,
   "metadata": {
    "ExecuteTime": {
     "end_time": "2021-10-30T19:03:19.374656Z",
     "start_time": "2021-10-30T19:03:19.280188Z"
    },
    "code_folding": [
     3
    ]
   },
   "outputs": [],
   "source": [
    "import struct, socket \n",
    "from random import randint\n",
    "\n",
    "class WEBREPL:\n",
    "    def upgrade_http_to_websocket(self):\n",
    "        frw = self.s.makefile(\"rwb\", 0)\n",
    "        frw.write(b\"\"\"GET / HTTP/1.1\\r\\nHost: echo.websocket.org\\r\\nConnection: Upgrade\\r\\nUpgrade: websocket\\r\\nSec-WebSocket-Key: foo\\r\\n\\r\\n\"\"\")  \n",
    "        while True:\n",
    "            l = frw.readline() \n",
    "            if l == b'\\r\\n': break  \n",
    "            # Response = '''HTTP/1.1 101 Switching Protocols\\r\\nUpgrade: websocket\\r\\nConnection: Upgrade\\r\\nSec-WebSocket-Accept: BM0S0+ghftShuFVHQATK/DBiJq8=\\r\\n\\r'''\n",
    "    \n",
    "        buf = b''\n",
    "        while 1:\n",
    "            c = self.s.recv(1)\n",
    "            buf += c\n",
    "            if c == b':': \n",
    "                self.s.recv(1)\n",
    "                break \n",
    "    \n",
    "    def send(self, payload): \n",
    "        l = len(payload)\n",
    "        if l > 125: raise \n",
    "        key = [randint(0, 255),randint(0, 255),randint(0, 255),randint(0, 255)]\n",
    "        masked_payload = [ord(c)^key[i%4] for i, c in enumerate(payload) ]\n",
    "        frame = struct.pack(f\">{6+l}B\", 0b10000001, 0b10000000 | l, *key,  *masked_payload) \n",
    "        self.s.send(frame)\n",
    "        \n",
    "    def recv(self): \n",
    "        buf = b''\n",
    "        while True:\n",
    "            _ = self.s.recv(1) \n",
    "            assert _ == b'\\x81' # Fin + reserve + OpCode\n",
    "            l = ord(self.s.recv(1))\n",
    "            buf += self.s.recv(l)    \n",
    "            if buf[-4:]==b'>>> ':  \n",
    "                return buf.decode()   \n",
    "        \n",
    "    def __init__(self, host='192.168.1.1', port=8266, password='123456'): \n",
    "        self.s = socket.socket(socket.AF_INET, socket.SOCK_STREAM) \n",
    "        self.s.connect((host, port))\n",
    "        self.upgrade_http_to_websocket()\n",
    "        self.send(password) \n",
    "        self.send('\\r')\n",
    "        print(self.recv())\n",
    "        \n",
    "    def close(self):\n",
    "        self.s.send(struct.pack(f\">6B\", 0x88, 0x80, 0x00, 0x00, 0x00, 0x00))"
   ]
  },
  {
   "cell_type": "code",
   "execution_count": 2,
   "metadata": {
    "ExecuteTime": {
     "end_time": "2021-10-30T19:03:20.592630Z",
     "start_time": "2021-10-30T19:03:19.387216Z"
    }
   },
   "outputs": [
    {
     "name": "stdout",
     "output_type": "stream",
     "text": [
      "\r\n",
      "WebREPL connected\r\n",
      ">>> \n"
     ]
    }
   ],
   "source": [
    "webrepl = WEBREPL(host='192.168.x.129', password='123456')"
   ]
  },
  {
   "cell_type": "code",
   "execution_count": 3,
   "metadata": {
    "ExecuteTime": {
     "end_time": "2021-10-30T19:03:33.961241Z",
     "start_time": "2021-10-30T19:03:20.605781Z"
    }
   },
   "outputs": [
    {
     "name": "stdout",
     "output_type": "stream",
     "text": [
      "\n",
      ">>> \n",
      "import time  \n",
      ">>> \n",
      "from machine import Pin, PWM \n",
      ">>> \n",
      "PIN_MOSFET = 4\n",
      ">>> \n",
      "PIN_Servo = 5 \n",
      ">>> \n",
      "PIN_BUILTIN_LED = 2\n",
      ">>> \n",
      "p0 = Pin(PIN_MOSFET, Pin.OUT, value=0)  \n",
      ">>> \n",
      "p2 = Pin(PIN_BUILTIN_LED, Pin.OUT, value=1)    \n",
      ">>> \n",
      "pwm0 = PWM(Pin(PIN_Servo))      \n",
      ">>> \n",
      "\n",
      ">>> \n",
      "p0.on() \n",
      ">>> \n",
      "p2.off()     \n",
      ">>> \n",
      "pwm0.freq(50) \n",
      ">>> \n",
      "i = 72 # off \n",
      ">>> \n",
      "pwm0.duty(i)          \n",
      ">>> \n",
      "time.sleep(0.5)\n",
      ">>> \n",
      "i = 85 # idle\n",
      ">>> \n",
      "pwm0.duty(i)          \n",
      ">>> \n",
      "time.sleep(0.5)\n",
      ">>> \n",
      "i = 93 # on \n",
      ">>> \n",
      "#pwm0.duty(i)          \n",
      ">>> \n",
      "time.sleep(0.5)\n",
      ">>> \n",
      "pwm0.deinit()\n",
      ">>> \n"
     ]
    }
   ],
   "source": [
    "a = '''\n",
    "import time  \n",
    "from machine import Pin, PWM \n",
    "PIN_MOSFET = 4\n",
    "PIN_Servo = 5 \n",
    "PIN_BUILTIN_LED = 2\n",
    "p0 = Pin(PIN_MOSFET, Pin.OUT, value=0)  \n",
    "p2 = Pin(PIN_BUILTIN_LED, Pin.OUT, value=1)    \n",
    "pwm0 = PWM(Pin(PIN_Servo))      \n",
    "\n",
    "p0.on() \n",
    "p2.off()     \n",
    "pwm0.freq(50) \n",
    "i = 72 # off \n",
    "pwm0.duty(i)          \n",
    "time.sleep(0.5)\n",
    "i = 85 # idle\n",
    "pwm0.duty(i)          \n",
    "time.sleep(0.5)\n",
    "i = 93 # on \n",
    "pwm0.duty(i)          \n",
    "time.sleep(0.5)\n",
    "pwm0.deinit()\n",
    "'''\n",
    "\n",
    "for cmd in a.splitlines():\n",
    "    webrepl.send(cmd)\n",
    "    webrepl.send('\\r')\n",
    "    print(webrepl.recv()) "
   ]
  },
  {
   "cell_type": "code",
   "execution_count": 4,
   "metadata": {
    "ExecuteTime": {
     "end_time": "2021-10-30T19:03:33.996403Z",
     "start_time": "2021-10-30T19:03:33.977299Z"
    }
   },
   "outputs": [],
   "source": [
    "webrepl.close()"
   ]
  }
 ],
 "metadata": {
  "kernelspec": {
   "display_name": "Python 3 (ipykernel)",
   "language": "python",
   "name": "python3"
  },
  "language_info": {
   "codemirror_mode": {
    "name": "ipython",
    "version": 3
   },
   "file_extension": ".py",
   "mimetype": "text/x-python",
   "name": "python",
   "nbconvert_exporter": "python",
   "pygments_lexer": "ipython3",
   "version": "3.7.3"
  }
 },
 "nbformat": 4,
 "nbformat_minor": 4
}
