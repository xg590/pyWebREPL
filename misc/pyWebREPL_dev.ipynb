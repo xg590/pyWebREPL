{
 "cells": [
  {
   "cell_type": "code",
   "execution_count": 1,
   "id": "further-blood",
   "metadata": {
    "ExecuteTime": {
     "end_time": "2022-09-24T23:14:00.863278Z",
     "start_time": "2022-09-24T23:14:00.841738Z"
    }
   },
   "outputs": [],
   "source": [
    "import sys\n",
    "sys.path.append(\"/path/to/pyWebREPL/\")\n",
    "from pyWebREPL import WEBREPL"
   ]
  },
  {
   "cell_type": "code",
   "execution_count": 2,
   "id": "after-stand",
   "metadata": {
    "ExecuteTime": {
     "end_time": "2022-09-24T23:14:01.178926Z",
     "start_time": "2022-09-24T23:14:00.866842Z"
    }
   },
   "outputs": [
    {
     "name": "stdout",
     "output_type": "stream",
     "text": [
      "\n",
      "WebREPL connected\n",
      ">>> \n"
     ]
    }
   ],
   "source": [
    "webrepl = WEBREPL(host='192.168.12.219', password='123456')"
   ]
  },
  {
   "cell_type": "markdown",
   "id": "declared-blame",
   "metadata": {},
   "source": [
    "### Blink the on-board LED"
   ]
  },
  {
   "cell_type": "code",
   "execution_count": 3,
   "id": "compound-direction",
   "metadata": {
    "ExecuteTime": {
     "end_time": "2022-09-24T23:14:02.101701Z",
     "start_time": "2022-09-24T23:14:01.183445Z"
    }
   },
   "outputs": [
    {
     "name": "stdout",
     "output_type": "stream",
     "text": [
      "6\n",
      "paste mode; Ctrl-C to cancel, Ctrl-D to finish\n",
      "=== import time  \n",
      "=== from machine import Pin  \n",
      "=== PIN_BUILTIN_LED = 2 \n",
      "=== p2 = Pin(PIN_BUILTIN_LED, Pin.OUT, value=1)   \n",
      "=== p2.off()  # Turn on the on-board LED            \n",
      "=== time.sleep(0.5) \n",
      "=== p2.on()   # Turn off the on-board LED\n",
      "=== \n",
      ">>> \n"
     ]
    }
   ],
   "source": [
    "webrepl.send('''\n",
    "import time  \n",
    "from machine import Pin  \n",
    "PIN_BUILTIN_LED = 2 \n",
    "p2 = Pin(PIN_BUILTIN_LED, Pin.OUT, value=1)   \n",
    "p2.off()  # Turn on the on-board LED            \n",
    "time.sleep(0.5) \n",
    "p2.on()   # Turn off the on-board LED   \n",
    "''')\n",
    "print(webrepl.recv())"
   ]
  },
  {
   "cell_type": "markdown",
   "id": "separated-highland",
   "metadata": {},
   "source": [
    "### Test Block 1"
   ]
  },
  {
   "cell_type": "code",
   "execution_count": 4,
   "id": "furnished-window",
   "metadata": {
    "ExecuteTime": {
     "end_time": "2022-09-24T23:14:02.167712Z",
     "start_time": "2022-09-24T23:14:02.105654Z"
    }
   },
   "outputs": [
    {
     "name": "stdout",
     "output_type": "stream",
     "text": [
      "6\n",
      "paste mode; Ctrl-C to cancel, Ctrl-D to finish\n",
      "=== if 1:\n",
      "===     print('Hello')\n",
      "===     if 1:\n",
      "===         print('world')\n",
      "=== \n",
      "Hello\n",
      "world\n",
      ">>> \n"
     ]
    }
   ],
   "source": [
    "webrepl.send('''\n",
    "if 1:\n",
    "    print('Hello')\n",
    "    if 1:\n",
    "        print('world')\n",
    "''')\n",
    "print(webrepl.recv())"
   ]
  },
  {
   "cell_type": "markdown",
   "id": "athletic-nickname",
   "metadata": {},
   "source": [
    "### Test Block 2"
   ]
  },
  {
   "cell_type": "code",
   "execution_count": 5,
   "id": "needed-complaint",
   "metadata": {
    "ExecuteTime": {
     "end_time": "2022-09-24T23:14:02.204902Z",
     "start_time": "2022-09-24T23:14:02.173353Z"
    }
   },
   "outputs": [
    {
     "name": "stdout",
     "output_type": "stream",
     "text": [
      "6\n",
      "paste mode; Ctrl-C to cancel, Ctrl-D to finish\n",
      "=== for i in range(4):\n",
      "===     print(i)\n",
      "=== \n",
      "0\n",
      "1\n",
      "2\n",
      "3\n",
      ">>> \n"
     ]
    }
   ],
   "source": [
    "webrepl.send('''\n",
    "for i in range(4):\n",
    "    print(i)\n",
    "''')\n",
    "print(webrepl.recv())"
   ]
  },
  {
   "cell_type": "markdown",
   "id": "hazardous-apparel",
   "metadata": {},
   "source": [
    "### Test Block 3"
   ]
  },
  {
   "cell_type": "code",
   "execution_count": 6,
   "id": "aggressive-jason",
   "metadata": {
    "ExecuteTime": {
     "end_time": "2022-09-24T23:14:02.320788Z",
     "start_time": "2022-09-24T23:14:02.211057Z"
    }
   },
   "outputs": [
    {
     "name": "stdout",
     "output_type": "stream",
     "text": [
      "6\n",
      "paste mode; Ctrl-C to cancel, Ctrl-D to finish\n",
      "=== fw = open('test.py', 'w')\n",
      "=== fw.write('import time\\n')                \n",
      "=== fw.write('count = 0\\n')\n",
      "=== fw.write('for i in range(20):\\n')              \n",
      "=== fw.write('    print(count)\\n')       \n",
      "=== fw.write('    count += 1\\n')     \n",
      "=== fw.write('    time.sleep(0.5)\\n') \n",
      "=== fw.close()\n",
      "=== \n",
      "12\n",
      "10\n",
      "20\n",
      "17\n",
      "15\n",
      "20\n",
      ">>> \n"
     ]
    }
   ],
   "source": [
    "code = '''fw = open('test.py', 'w')\n",
    "fw.write('import time\\\\n')                \n",
    "fw.write('count = 0\\\\n')\n",
    "fw.write('for i in range(20):\\\\n')              \n",
    "fw.write('    print(count)\\\\n')       \n",
    "fw.write('    count += 1\\\\n')     \n",
    "fw.write('    time.sleep(0.5)\\\\n') \n",
    "fw.close()\n",
    "''' \n",
    "webrepl.send(code)\n",
    "print(webrepl.recv())"
   ]
  },
  {
   "cell_type": "code",
   "execution_count": 7,
   "id": "coordinated-noise",
   "metadata": {
    "ExecuteTime": {
     "end_time": "2022-09-24T23:14:12.525581Z",
     "start_time": "2022-09-24T23:14:02.323449Z"
    }
   },
   "outputs": [
    {
     "name": "stdout",
     "output_type": "stream",
     "text": [
      "6\n",
      "paste mode; Ctrl-C to cancel, Ctrl-D to finish\n",
      "=== exec(open(\"test.py\").read())\n",
      "=== \n",
      "0\n",
      "1\n",
      "2\n",
      "3\n",
      "4\n",
      "5\n",
      "6\n",
      "7\n",
      "8\n",
      "9\n",
      "10\n",
      "11\n",
      "12\n",
      "13\n",
      "14\n",
      "15\n",
      "16\n",
      "17\n",
      "18\n",
      "19\n",
      ">>> \n"
     ]
    }
   ],
   "source": [
    "code = '''\n",
    "exec(open(\"test.py\").read())\n",
    "''' \n",
    "webrepl.send(code)\n",
    "print(webrepl.recv())"
   ]
  },
  {
   "cell_type": "code",
   "execution_count": 8,
   "id": "dying-rouge",
   "metadata": {
    "ExecuteTime": {
     "end_time": "2022-09-24T23:14:12.535721Z",
     "start_time": "2022-09-24T23:14:12.527102Z"
    }
   },
   "outputs": [],
   "source": [
    "webrepl.close()"
   ]
  }
 ],
 "metadata": {
  "kernelspec": {
   "display_name": "Python 3",
   "language": "python",
   "name": "python3"
  },
  "language_info": {
   "codemirror_mode": {
    "name": "ipython",
    "version": 3
   },
   "file_extension": ".py",
   "mimetype": "text/x-python",
   "name": "python",
   "nbconvert_exporter": "python",
   "pygments_lexer": "ipython3",
   "version": "3.7.10"
  }
 },
 "nbformat": 4,
 "nbformat_minor": 5
}
