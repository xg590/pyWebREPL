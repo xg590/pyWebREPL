{
 "cells": [
  {
   "cell_type": "code",
   "execution_count": 1,
   "id": "further-blood",
   "metadata": {
    "ExecuteTime": {
     "end_time": "2022-09-24T23:14:00.863278Z",
     "start_time": "2022-09-24T23:14:00.841738Z"
    }
   },
   "outputs": [],
   "source": [
    "import struct, socket \n",
    "from random import randint\n",
    "\n",
    "class WEBREPL:\n",
    "    def upgrade_http_to_websocket(self):\n",
    "        frw = self.s.makefile(\"rwb\", 0)\n",
    "        frw.write(b\"\"\"GET / HTTP/1.1\\r\\nHost: echo.websocket.org\\r\\nConnection: Upgrade\\r\\nUpgrade: websocket\\r\\nSec-WebSocket-Key: foo\\r\\n\\r\\n\"\"\")  \n",
    "        while True:\n",
    "            l = frw.readline() \n",
    "            if l == b'\\r\\n': break  \n",
    "            # Response = '''HTTP/1.1 101 Switching Protocols\\r\\nUpgrade: websocket\\r\\nConnection: Upgrade\\r\\nSec-WebSocket-Accept: BM0S0+ghftShuFVHQATK/DBiJq8=\\r\\n\\r'''\n",
    "    \n",
    "        buf = b''\n",
    "        while 1:\n",
    "            c = self.s.recv(1)\n",
    "            buf += c\n",
    "            if c == b':': \n",
    "                self.s.recv(1)\n",
    "                break \n",
    "    \n",
    "    def _send(self, payload): \n",
    "        l = len(payload)\n",
    "        if l > 125: raise \n",
    "        key = [randint(0, 255),randint(0, 255),randint(0, 255),randint(0, 255)]\n",
    "        masked_payload = [ord(c)^key[i%4] for i, c in enumerate(payload) ]\n",
    "        frame = struct.pack(f\">{6+l}B\", 0b10000001, 0b10000000 | l, *key,  *masked_payload) \n",
    "        self.s.send(frame)\n",
    "        \n",
    "    def send(self, code):\n",
    "        self._send([b'\\x05']) \n",
    "        for cmd in code.strip().splitlines():\n",
    "            self._send(cmd)\n",
    "            self._send([b'\\r'])\n",
    "        self._send([b'\\x04']) \n",
    "        \n",
    "    def recv(self): \n",
    "        buf = ''\n",
    "        while True:\n",
    "            while True:\n",
    "                _ = self.s.recv(1)\n",
    "                if  _ != b'\\x81': # ignore nonsense for us\n",
    "                    break    \n",
    "            if _ == b'\\x0d':  # print when receive a Carriage Return even if the buffer is not returnable\n",
    "                print(buf)  \n",
    "                buf = ''\n",
    "            if ord(_)>31:     # only buffer readable char\n",
    "                buf += _.decode()  \n",
    "            if buf[-4:]=='>>> ': # the buffer is now returnable \n",
    "                return buf \n",
    "                \n",
    "                \n",
    "    def __init__(self, host='192.168.1.1', port=8266, password='123456'): \n",
    "        self.s = socket.socket(socket.AF_INET, socket.SOCK_STREAM) \n",
    "        self.s.connect((host, port))\n",
    "        self.upgrade_http_to_websocket()\n",
    "        self._send(password) \n",
    "        self._send('\\r')\n",
    "        print(self.recv())\n",
    "        \n",
    "    def close(self):\n",
    "        self.s.send(struct.pack(f\">6B\", 0x88, 0x80, 0x00, 0x00, 0x00, 0x00))"
   ]
  },
  {
   "cell_type": "code",
   "execution_count": 2,
   "id": "after-stand",
   "metadata": {
    "ExecuteTime": {
     "end_time": "2022-09-24T23:14:01.178926Z",
     "start_time": "2022-09-24T23:14:00.866842Z"
    }
   },
   "outputs": [
    {
     "name": "stdout",
     "output_type": "stream",
     "text": [
      "\n",
      "WebREPL connected\n",
      ">>> \n"
     ]
    }
   ],
   "source": [
    "webrepl = WEBREPL(host='192.168.12.219', password='123456')"
   ]
  },
  {
   "cell_type": "markdown",
   "id": "declared-blame",
   "metadata": {},
   "source": [
    "### Blink the on-board LED"
   ]
  },
  {
   "cell_type": "code",
   "execution_count": 3,
   "id": "compound-direction",
   "metadata": {
    "ExecuteTime": {
     "end_time": "2022-09-24T23:14:02.101701Z",
     "start_time": "2022-09-24T23:14:01.183445Z"
    }
   },
   "outputs": [
    {
     "name": "stdout",
     "output_type": "stream",
     "text": [
      "6\n",
      "paste mode; Ctrl-C to cancel, Ctrl-D to finish\n",
      "=== import time  \n",
      "=== from machine import Pin  \n",
      "=== PIN_BUILTIN_LED = 2 \n",
      "=== p2 = Pin(PIN_BUILTIN_LED, Pin.OUT, value=1)   \n",
      "=== p2.off()  # Turn on the on-board LED            \n",
      "=== time.sleep(0.5) \n",
      "=== p2.on()   # Turn off the on-board LED\n",
      "=== \n",
      ">>> \n"
     ]
    }
   ],
   "source": [
    "webrepl.send('''\n",
    "import time  \n",
    "from machine import Pin  \n",
    "PIN_BUILTIN_LED = 2 \n",
    "p2 = Pin(PIN_BUILTIN_LED, Pin.OUT, value=1)   \n",
    "p2.off()  # Turn on the on-board LED            \n",
    "time.sleep(0.5) \n",
    "p2.on()   # Turn off the on-board LED   \n",
    "''')\n",
    "print(webrepl.recv())"
   ]
  },
  {
   "cell_type": "markdown",
   "id": "separated-highland",
   "metadata": {},
   "source": [
    "### Test Block 1"
   ]
  },
  {
   "cell_type": "code",
   "execution_count": 4,
   "id": "furnished-window",
   "metadata": {
    "ExecuteTime": {
     "end_time": "2022-09-24T23:14:02.167712Z",
     "start_time": "2022-09-24T23:14:02.105654Z"
    }
   },
   "outputs": [
    {
     "name": "stdout",
     "output_type": "stream",
     "text": [
      "6\n",
      "paste mode; Ctrl-C to cancel, Ctrl-D to finish\n",
      "=== if 1:\n",
      "===     print('Hello')\n",
      "===     if 1:\n",
      "===         print('world')\n",
      "=== \n",
      "Hello\n",
      "world\n",
      ">>> \n"
     ]
    }
   ],
   "source": [
    "webrepl.send('''\n",
    "if 1:\n",
    "    print('Hello')\n",
    "    if 1:\n",
    "        print('world')\n",
    "''')\n",
    "print(webrepl.recv())"
   ]
  },
  {
   "cell_type": "markdown",
   "id": "athletic-nickname",
   "metadata": {},
   "source": [
    "### Test Block 2"
   ]
  },
  {
   "cell_type": "code",
   "execution_count": 5,
   "id": "needed-complaint",
   "metadata": {
    "ExecuteTime": {
     "end_time": "2022-09-24T23:14:02.204902Z",
     "start_time": "2022-09-24T23:14:02.173353Z"
    }
   },
   "outputs": [
    {
     "name": "stdout",
     "output_type": "stream",
     "text": [
      "6\n",
      "paste mode; Ctrl-C to cancel, Ctrl-D to finish\n",
      "=== for i in range(4):\n",
      "===     print(i)\n",
      "=== \n",
      "0\n",
      "1\n",
      "2\n",
      "3\n",
      ">>> \n"
     ]
    }
   ],
   "source": [
    "webrepl.send('''\n",
    "for i in range(4):\n",
    "    print(i)\n",
    "''')\n",
    "print(webrepl.recv())"
   ]
  },
  {
   "cell_type": "markdown",
   "id": "hazardous-apparel",
   "metadata": {},
   "source": [
    "### Test Block 3"
   ]
  },
  {
   "cell_type": "code",
   "execution_count": 6,
   "id": "aggressive-jason",
   "metadata": {
    "ExecuteTime": {
     "end_time": "2022-09-24T23:14:02.320788Z",
     "start_time": "2022-09-24T23:14:02.211057Z"
    }
   },
   "outputs": [
    {
     "name": "stdout",
     "output_type": "stream",
     "text": [
      "6\n",
      "paste mode; Ctrl-C to cancel, Ctrl-D to finish\n",
      "=== fw = open('test.py', 'w')\n",
      "=== fw.write('import time\\n')                \n",
      "=== fw.write('count = 0\\n')\n",
      "=== fw.write('for i in range(20):\\n')              \n",
      "=== fw.write('    print(count)\\n')       \n",
      "=== fw.write('    count += 1\\n')     \n",
      "=== fw.write('    time.sleep(0.5)\\n') \n",
      "=== fw.close()\n",
      "=== \n",
      "12\n",
      "10\n",
      "20\n",
      "17\n",
      "15\n",
      "20\n",
      ">>> \n"
     ]
    }
   ],
   "source": [
    "code = '''fw = open('test.py', 'w')\n",
    "fw.write('import time\\\\n')                \n",
    "fw.write('count = 0\\\\n')\n",
    "fw.write('for i in range(20):\\\\n')              \n",
    "fw.write('    print(count)\\\\n')       \n",
    "fw.write('    count += 1\\\\n')     \n",
    "fw.write('    time.sleep(0.5)\\\\n') \n",
    "fw.close()\n",
    "''' \n",
    "webrepl.send(code)\n",
    "print(webrepl.recv())"
   ]
  },
  {
   "cell_type": "code",
   "execution_count": 7,
   "id": "coordinated-noise",
   "metadata": {
    "ExecuteTime": {
     "end_time": "2022-09-24T23:14:12.525581Z",
     "start_time": "2022-09-24T23:14:02.323449Z"
    }
   },
   "outputs": [
    {
     "name": "stdout",
     "output_type": "stream",
     "text": [
      "6\n",
      "paste mode; Ctrl-C to cancel, Ctrl-D to finish\n",
      "=== exec(open(\"test.py\").read())\n",
      "=== \n",
      "0\n",
      "1\n",
      "2\n",
      "3\n",
      "4\n",
      "5\n",
      "6\n",
      "7\n",
      "8\n",
      "9\n",
      "10\n",
      "11\n",
      "12\n",
      "13\n",
      "14\n",
      "15\n",
      "16\n",
      "17\n",
      "18\n",
      "19\n",
      ">>> \n"
     ]
    }
   ],
   "source": [
    "code = '''\n",
    "exec(open(\"test.py\").read())\n",
    "''' \n",
    "webrepl.send(code)\n",
    "print(webrepl.recv())"
   ]
  },
  {
   "cell_type": "code",
   "execution_count": 8,
   "id": "dying-rouge",
   "metadata": {
    "ExecuteTime": {
     "end_time": "2022-09-24T23:14:12.535721Z",
     "start_time": "2022-09-24T23:14:12.527102Z"
    }
   },
   "outputs": [],
   "source": [
    "webrepl.close()"
   ]
  }
 ],
 "metadata": {
  "kernelspec": {
   "display_name": "Python 3",
   "language": "python",
   "name": "python3"
  },
  "language_info": {
   "codemirror_mode": {
    "name": "ipython",
    "version": 3
   },
   "file_extension": ".py",
   "mimetype": "text/x-python",
   "name": "python",
   "nbconvert_exporter": "python",
   "pygments_lexer": "ipython3",
   "version": "3.7.10"
  }
 },
 "nbformat": 4,
 "nbformat_minor": 5
}
