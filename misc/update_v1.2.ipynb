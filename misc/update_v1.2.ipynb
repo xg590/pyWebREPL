{
 "cells": [
  {
   "cell_type": "code",
   "execution_count": 1,
   "id": "9be6b2ce",
   "metadata": {
    "ExecuteTime": {
     "end_time": "2022-11-01T21:57:00.822484Z",
     "start_time": "2022-11-01T21:57:00.802036Z"
    }
   },
   "outputs": [],
   "source": [
    "webrepl_host_ip=\"192.168.3.19\" \n",
    "import sys\n",
    "sys.path.append(\"/var/www/html/project/pyWebREPL/\")\n",
    "from pyWebREPL import WEBREPL "
   ]
  },
  {
   "cell_type": "code",
   "execution_count": 2,
   "id": "765aadfa",
   "metadata": {
    "ExecuteTime": {
     "end_time": "2022-11-01T21:57:02.523118Z",
     "start_time": "2022-11-01T21:57:00.828547Z"
    }
   },
   "outputs": [
    {
     "name": "stdout",
     "output_type": "stream",
     "text": [
      "\n",
      "WebREPL connected\n",
      ">>> \n",
      "6\n",
      "paste mode; Ctrl-C to cancel, Ctrl-D to finish\n",
      "=== fw=open('main.py','w')\n",
      "=== \n",
      "6\n",
      "paste mode; Ctrl-C to cancel, Ctrl-D to finish\n",
      "=== fw.write('''from machine import Pin, PWM\\r''')\n",
      "=== \n",
      "29\n",
      "6\n",
      "paste mode; Ctrl-C to cancel, Ctrl-D to finish\n",
      "=== fw.write('''import time\\r''')\n",
      "=== \n",
      "12\n",
      "6\n",
      "paste mode; Ctrl-C to cancel, Ctrl-D to finish\n",
      "=== fw.flush()\n",
      "=== fw.close()\n",
      "=== \n"
     ]
    }
   ],
   "source": [
    "webrepl = WEBREPL(host=webrepl_host_ip, password='123456') \n",
    "webrepl.write_main(f'''\n",
    "from machine import Pin, PWM\n",
    "import time\n",
    "''')\n",
    "webrepl.soft_reboot() "
   ]
  }
 ],
 "metadata": {
  "kernelspec": {
   "display_name": "Python 3 (ipykernel)",
   "language": "python",
   "name": "python3"
  },
  "language_info": {
   "codemirror_mode": {
    "name": "ipython",
    "version": 3
   },
   "file_extension": ".py",
   "mimetype": "text/x-python",
   "name": "python",
   "nbconvert_exporter": "python",
   "pygments_lexer": "ipython3",
   "version": "3.9.2"
  }
 },
 "nbformat": 4,
 "nbformat_minor": 5
}
